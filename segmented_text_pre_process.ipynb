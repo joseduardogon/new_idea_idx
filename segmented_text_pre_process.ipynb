{
 "cells": [
  {
   "metadata": {},
   "cell_type": "code",
   "source": [
    "import fitz  # PyMuPDF\n",
    "import cv2\n",
    "import numpy as np\n",
    "import sqlite3\n",
    "from paddleocr import PaddleOCR\n",
    "import os"
   ],
   "id": "fb1f87d8cb412aad",
   "outputs": [],
   "execution_count": null
  },
  {
   "metadata": {},
   "cell_type": "markdown",
   "source": "Correção de Rotação (Deskew)",
   "id": "482aacaa2b0cb8d2"
  },
  {
   "cell_type": "code",
   "id": "initial_id",
   "metadata": {
    "collapsed": true
   },
   "source": [
    "\n",
    "def deskew(image: np.ndarray) -> np.ndarray:\n",
    "    \"\"\"Corrige a inclinação de uma imagem.\"\"\"\n",
    "    gray = cv2.cvtColor(image, cv2.COLOR_BGR2GRAY)\n",
    "    gray = cv2.bitwise_not(gray) # Inverte preto com branco\n",
    "    \n",
    "    # Encontra as coordenadas dos pixels que não são pretos\n",
    "    coords = np.column_stack(np.where(gray > 0))\n",
    "    \n",
    "    # minAreaRect encontra o menor retângulo (possivelmente rotacionado)\n",
    "    # que contém todos os pontos\n",
    "    angle = cv2.minAreaRect(coords)[-1]\n",
    "\n",
    "    # O ângulo retornado pode precisar de ajuste\n",
    "    if angle < -45:\n",
    "        angle = -(90 + angle)\n",
    "    else:\n",
    "        angle = -angle\n",
    "\n",
    "    # Rotaciona a imagem para corrigir a inclinação\n",
    "    (h, w) = image.shape[:2]\n",
    "    center = (w // 2, h // 2)\n",
    "    M = cv2.getRotationMatrix2D(center, angle, 1.0)\n",
    "    rotated = cv2.warpAffine(image, M, (w, h), \n",
    "                             flags=cv2.INTER_CUBIC, \n",
    "                             borderMode=cv2.BORDER_REPLICATE)\n",
    "    \n",
    "    print(f\"[INFO] Ângulo de inclinação detectado: {angle:.4f} graus\")\n",
    "    return rotated"
   ],
   "outputs": [],
   "execution_count": null
  },
  {
   "metadata": {},
   "cell_type": "markdown",
   "source": "Verificação e Ajuste de Resolução (DPI)",
   "id": "3da5f796c6af7298"
  },
  {
   "metadata": {},
   "cell_type": "code",
   "source": "#ja feito no service docs",
   "id": "95f98ce0c85a53c7",
   "outputs": [],
   "execution_count": null
  },
  {
   "metadata": {},
   "cell_type": "markdown",
   "source": "Remoção de Ruído (Denoising)",
   "id": "b9432c8be1301d30"
  },
  {
   "metadata": {},
   "cell_type": "code",
   "source": [
    "def remove_noise(image: np.ndarray) -> np.ndarray:\n",
    "    \"\"\"Aplica um filtro de mediana para remover ruído.\"\"\"\n",
    "    # O segundo argumento é o tamanho do kernel. \n",
    "    # Deve ser um número ímpar (3, 5, etc.).\n",
    "    return cv2.medianBlur(image, 3)"
   ],
   "id": "a5b3c12b2392acc",
   "outputs": [],
   "execution_count": null
  },
  {
   "metadata": {},
   "cell_type": "markdown",
   "source": "Binarização e Limiarização (Thresholding)",
   "id": "6b77aa8b067231cb"
  },
  {
   "metadata": {},
   "cell_type": "code",
   "source": [
    "def binarize(image: np.ndarray) -> np.ndarray:\n",
    "    \"\"\"Converte a imagem para preto e branco usando limiarização adaptativa.\"\"\"\n",
    "    gray = cv2.cvtColor(image, cv2.COLOR_BGR2GRAY)\n",
    "    \n",
    "    # Aplica a limiarização adaptativa\n",
    "    # cv2.ADAPTIVE_THRESH_GAUSSIAN_C: método de cálculo do limiar\n",
    "    # cv2.THRESH_BINARY: tipo de limiarização\n",
    "    # 11: tamanho do bloco de vizinhança\n",
    "    # 2: constante subtraída da média\n",
    "    binary = cv2.adaptiveThreshold(gray, 255, \n",
    "                                   cv2.ADAPTIVE_THRESH_GAUSSIAN_C, \n",
    "                                   cv2.THRESH_BINARY, 11, 2)\n",
    "    return binary"
   ],
   "id": "6fdc5a904656f2ed",
   "outputs": [],
   "execution_count": null
  },
  {
   "metadata": {},
   "cell_type": "markdown",
   "source": "BANCO DE DADOS E LÓGICA DE PROCESSAMENTO",
   "id": "91b922b5959c1b09"
  },
  {
   "metadata": {},
   "cell_type": "code",
   "source": [
    "def setup_database(db_name=\"document_ocr.db\"):\n",
    "    \"\"\"Cria a tabela no banco de dados SQLite se ela não existir.\"\"\"\n",
    "    conn = sqlite3.connect(db_name)\n",
    "    cursor = conn.cursor()\n",
    "    cursor.execute(\"\"\"\n",
    "    CREATE TABLE IF NOT EXISTS ocr_results (\n",
    "        id INTEGER PRIMARY KEY AUTOINCREMENT,\n",
    "        pdf_name TEXT NOT NULL,\n",
    "        page_number INTEGER NOT NULL,\n",
    "        full_text TEXT,\n",
    "        processed_at TIMESTAMP DEFAULT CURRENT_TIMESTAMP\n",
    "    );\n",
    "    \"\"\")\n",
    "    conn.commit()\n",
    "    return conn"
   ],
   "id": "e69308938201293f",
   "outputs": [],
   "execution_count": null
  },
  {
   "metadata": {},
   "cell_type": "code",
   "source": [
    "def convert_page_to_image(page: fitz.Page) -> np.ndarray:\n",
    "    \"\"\"Converte uma página de PDF em uma imagem OpenCV.\"\"\"\n",
    "    # Renderiza a página com 300 DPI, ideal para OCR\n",
    "    pix = page.get_pixmap(dpi=300)\n",
    "    # Converte os bytes da imagem para um array numpy\n",
    "    img = np.frombuffer(pix.samples, dtype=np.uint8).reshape(pix.h, pix.w, pix.n)\n",
    "    # Converte de RGB para BGR (padrão do OpenCV)\n",
    "    img_bgr = cv2.cvtColor(img, cv2.COLOR_RGB2BGR)\n",
    "    return img_bgr"
   ],
   "id": "711ee05cf340b332",
   "outputs": [],
   "execution_count": null
  },
  {
   "metadata": {},
   "cell_type": "code",
   "source": [
    "def extract_text_from_image(ocr_agent, image: np.ndarray) -> str:\n",
    "    \"\"\"Usa o PaddleOCR para extrair texto de uma imagem.\"\"\"\n",
    "    result = ocr_agent.ocr(image)\n",
    "    \n",
    "    if result and result[0] is not None:\n",
    "        text_lines = [line[1][0] for line in result[0]]\n",
    "        return \"\\n\".join(text_lines)\n",
    "    return \"\""
   ],
   "id": "813775f1d8c06bed",
   "outputs": [],
   "execution_count": null
  },
  {
   "metadata": {},
   "cell_type": "markdown",
   "source": "MAIN",
   "id": "dea250e6a4f62592"
  },
  {
   "metadata": {},
   "cell_type": "code",
   "source": [
    "def main(pdf_path: str):\n",
    "    \"\"\"\n",
    "    Pipeline completo: abre um PDF, processa cada página e salva o resultado no DB.\n",
    "    \"\"\"\n",
    "    if not os.path.exists(pdf_path):\n",
    "        print(f\"Erro: Arquivo PDF não encontrado em '{pdf_path}'\")\n",
    "        return\n",
    "\n",
    "    pdf_name = os.path.basename(pdf_path)\n",
    "    print(f\"Iniciando processamento do arquivo: {pdf_name}\")\n",
    "\n",
    "    # --- Inicialização ---\n",
    "    db_connection = setup_database()\n",
    "    # Inicializa o PaddleOCR para português. A primeira execução fará o download dos modelos.\n",
    "    print(\"Inicializando o PaddleOCR (pode levar um tempo na primeira vez)...\")\n",
    "    ocr = PaddleOCR(use_angle_cls=True, lang='pt')\n",
    "    \n",
    "    # --- Processamento do PDF ---\n",
    "    doc = fitz.open(pdf_path)\n",
    "    \n",
    "    for page_num in range(len(doc)):\n",
    "        page = doc.load_page(page_num)\n",
    "        print(f\"\\n--- Processando Página {page_num + 1}/{len(doc)} ---\")\n",
    "\n",
    "        # 1. Converter PDF -> Imagem\n",
    "        print(\"1. Convertendo página para imagem...\")\n",
    "        original_image = convert_page_to_image(page)\n",
    "\n",
    "        # 2. Aplicar pipeline de pré-processamento\n",
    "        print(\"2. Aplicando pré-processamento de imagem...\")\n",
    "        cv2.imwrite(f\"debug_nochange_{page_num + 1}.png\", original_image)\n",
    "        \n",
    "        deskewed_image = deskew(original_image)\n",
    "        cv2.imwrite(f\"debug_deskew_{page_num + 1}.png\", deskewed_image)\n",
    "        \n",
    "        denoised_image = remove_noise(deskewed_image)\n",
    "        cv2.imwrite(f\"debug_denoise_{page_num + 1}.png\", denoised_image)\n",
    "        \n",
    "        binary_image = binarize(denoised_image)\n",
    "        cv2.imwrite(f\"debug_binary_{page_num + 1}.png\", binary_image)\n",
    "        \n",
    "        # Converte a imagem binária (1 canal) de volta para BGR (3 canais)\n",
    "        image_for_ocr = cv2.cvtColor(binary_image, cv2.COLOR_GRAY2BGR)\n",
    "\n",
    "        # 3. Executar OCR na imagem limpa\n",
    "        print(\"3. Executando OCR com Paddle...\")\n",
    "        # Envia a imagem no formato correto para o OCR\n",
    "        extracted_text = extract_text_from_image(ocr, image_for_ocr)\n",
    "        \n",
    "        if not extracted_text:\n",
    "            print(\"Nenhum texto detectado nesta página.\")\n",
    "            continue\n",
    "            \n",
    "        # print(f\"Texto extraído:\\n{extracted_text[:200]}...\") # Mostra um trecho\n",
    "\n",
    "        # 4. Salvar no banco de dados\n",
    "        print(\"4. Salvando resultado no banco de dados SQLite...\")\n",
    "        cursor = db_connection.cursor()\n",
    "        cursor.execute(\n",
    "            \"INSERT INTO ocr_results (pdf_name, page_number, full_text) VALUES (?, ?, ?)\",\n",
    "            (pdf_name, page_num + 1, extracted_text)\n",
    "        )\n",
    "        db_connection.commit()\n",
    "        print(\"Resultado salvo com sucesso!\")\n",
    "\n",
    "    # --- Finalização ---\n",
    "    db_connection.close()\n",
    "    doc.close()\n",
    "    print(f\"\\nProcessamento de '{pdf_name}' concluído com sucesso!\")\n",
    "\n",
    "\n",
    "if __name__ == '__main__':\n",
    "    # Coloque o caminho para o seu PDF de exemplo aqui\n",
    "    caminho_do_pdf = \"1.pdf\" \n",
    "    main(caminho_do_pdf)"
   ],
   "id": "6b27a071f64a6177",
   "outputs": [],
   "execution_count": null
  }
 ],
 "metadata": {
  "kernelspec": {
   "display_name": "Python 3",
   "language": "python",
   "name": "python3"
  },
  "language_info": {
   "codemirror_mode": {
    "name": "ipython",
    "version": 2
   },
   "file_extension": ".py",
   "mimetype": "text/x-python",
   "name": "python",
   "nbconvert_exporter": "python",
   "pygments_lexer": "ipython2",
   "version": "2.7.6"
  }
 },
 "nbformat": 4,
 "nbformat_minor": 5
}
