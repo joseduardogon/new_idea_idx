{
 "cells": [
  {
   "metadata": {},
   "cell_type": "markdown",
   "source": "Correção de Rotação (Deskew)",
   "id": "482aacaa2b0cb8d2"
  },
  {
   "cell_type": "code",
   "execution_count": null,
   "id": "initial_id",
   "metadata": {
    "collapsed": true
   },
   "outputs": [],
   "source": [
    "import cv2\n",
    "import numpy as np\n",
    "\n",
    "def deskew(image: np.ndarray) -> np.ndarray:\n",
    "    \"\"\"Corrige a inclinação de uma imagem.\"\"\"\n",
    "    gray = cv2.cvtColor(image, cv2.COLOR_BGR2GRAY)\n",
    "    gray = cv2.bitwise_not(gray) # Inverte preto com branco\n",
    "    \n",
    "    # Encontra as coordenadas dos pixels que não são pretos\n",
    "    coords = np.column_stack(np.where(gray > 0))\n",
    "    \n",
    "    # minAreaRect encontra o menor retângulo (possivelmente rotacionado)\n",
    "    # que contém todos os pontos\n",
    "    angle = cv2.minAreaRect(coords)[-1]\n",
    "\n",
    "    # O ângulo retornado pode precisar de ajuste\n",
    "    if angle < -45:\n",
    "        angle = -(90 + angle)\n",
    "    else:\n",
    "        angle = -angle\n",
    "\n",
    "    # Rotaciona a imagem para corrigir a inclinação\n",
    "    (h, w) = image.shape[:2]\n",
    "    center = (w // 2, h // 2)\n",
    "    M = cv2.getRotationMatrix2D(center, angle, 1.0)\n",
    "    rotated = cv2.warpAffine(image, M, (w, h), \n",
    "                             flags=cv2.INTER_CUBIC, \n",
    "                             borderMode=cv2.BORDER_REPLICATE)\n",
    "    \n",
    "    print(f\"[INFO] Ângulo de inclinação detectado: {angle:.4f} graus\")\n",
    "    return rotated"
   ]
  },
  {
   "metadata": {},
   "cell_type": "markdown",
   "source": "Verificação e Ajuste de Resolução (DPI)",
   "id": "3da5f796c6af7298"
  },
  {
   "metadata": {},
   "cell_type": "code",
   "outputs": [],
   "execution_count": null,
   "source": "#ja feito no service docs",
   "id": "95f98ce0c85a53c7"
  },
  {
   "metadata": {},
   "cell_type": "markdown",
   "source": "Remoção de Ruído (Denoising)",
   "id": "b9432c8be1301d30"
  },
  {
   "metadata": {},
   "cell_type": "code",
   "outputs": [],
   "execution_count": null,
   "source": [
    "def remove_noise(image: np.ndarray) -> np.ndarray:\n",
    "    \"\"\"Aplica um filtro de mediana para remover ruído.\"\"\"\n",
    "    # O segundo argumento é o tamanho do kernel. \n",
    "    # Deve ser um número ímpar (3, 5, etc.).\n",
    "    return cv2.medianBlur(image, 3)"
   ],
   "id": "a5b3c12b2392acc"
  },
  {
   "metadata": {},
   "cell_type": "markdown",
   "source": "Binarização e Limiarização (Thresholding)",
   "id": "6b77aa8b067231cb"
  },
  {
   "metadata": {},
   "cell_type": "code",
   "outputs": [],
   "execution_count": null,
   "source": [
    "def binarize(image: np.ndarray) -> np.ndarray:\n",
    "    \"\"\"Converte a imagem para preto e branco usando limiarização adaptativa.\"\"\"\n",
    "    gray = cv2.cvtColor(image, cv2.COLOR_BGR2GRAY)\n",
    "    \n",
    "    # Aplica a limiarização adaptativa\n",
    "    # cv2.ADAPTIVE_THRESH_GAUSSIAN_C: método de cálculo do limiar\n",
    "    # cv2.THRESH_BINARY: tipo de limiarização\n",
    "    # 11: tamanho do bloco de vizinhança\n",
    "    # 2: constante subtraída da média\n",
    "    binary = cv2.adaptiveThreshold(gray, 255, \n",
    "                                   cv2.ADAPTIVE_THRESH_GAUSSIAN_C, \n",
    "                                   cv2.THRESH_BINARY, 11, 2)\n",
    "    return binary"
   ],
   "id": "6fdc5a904656f2ed"
  }
 ],
 "metadata": {
  "kernelspec": {
   "display_name": "Python 3",
   "language": "python",
   "name": "python3"
  },
  "language_info": {
   "codemirror_mode": {
    "name": "ipython",
    "version": 2
   },
   "file_extension": ".py",
   "mimetype": "text/x-python",
   "name": "python",
   "nbconvert_exporter": "python",
   "pygments_lexer": "ipython2",
   "version": "2.7.6"
  }
 },
 "nbformat": 4,
 "nbformat_minor": 5
}
